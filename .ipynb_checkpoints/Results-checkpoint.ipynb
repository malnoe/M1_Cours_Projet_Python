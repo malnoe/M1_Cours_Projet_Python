{
 "cells": [
  {
   "cell_type": "code",
   "execution_count": 1,
   "id": "4c36cc0a-43b2-4293-86a7-0dedf8653266",
   "metadata": {},
   "outputs": [],
   "source": [
    "import numpy as np\n",
    "import pandas as pd\n",
    "import random\n",
    "from baseloss import LossFunction\n",
    "from baseoptimizer import Optimizer\n",
    "from utils import make_random_func1, make_random_func2"
   ]
  },
  {
   "cell_type": "code",
   "execution_count": 12,
   "id": "8851a281-e628-4bc2-a5f0-31486ce0a0e4",
   "metadata": {},
   "outputs": [
    {
     "name": "stdout",
     "output_type": "stream",
     "text": [
      "Nombre d'étapes : 69\n"
     ]
    },
    {
     "data": {
      "text/plain": [
       "array([-0.51372719, -0.62576707,  0.80518357, -0.60600437,  0.46719297,\n",
       "        1.95321976, -0.11180675, -0.88125444, -1.98386032,  0.24316584])"
      ]
     },
     "execution_count": 12,
     "metadata": {},
     "output_type": "execute_result"
    }
   ],
   "source": [
    "n=10\n",
    "function1 = make_random_func1(n)\n",
    "\n",
    "from projet1 import BfgsDescent\n",
    "BfgsDescent(eps=0.0001, theta0=np.array([0 for _ in range(10)]), L=function1, eta=0.1)"
   ]
  },
  {
   "cell_type": "code",
   "execution_count": 24,
   "id": "d86ae948-eeae-40d7-a053-47d4dae9c6d6",
   "metadata": {},
   "outputs": [
    {
     "name": "stdout",
     "output_type": "stream",
     "text": [
      "Nombre d'étapes : 3397\n",
      "Nombre d'étapes : 563\n",
      "Nombre d'étapes : 77\n",
      "Nombre d'étapes : 8\n",
      "Nombre d'étapes : 450\n",
      "Nombre d'étapes : 301\n"
     ]
    }
   ],
   "source": [
    "# nombre d'etapes pour diffenrets eta avec la fonction GradientDescent\n",
    "from projet1 import GradientDescent\n",
    "eta_values = [0.001,0.01,0.1,1,5,10]\n",
    "for i in eta_values:\n",
    "    result = GradientDescent(eps = 0.0001, theta0 = np.array([0 for _ in range(n)]), L=function1, eta = i)"
   ]
  },
  {
   "cell_type": "code",
   "execution_count": 26,
   "id": "534be74f-926d-41ab-a885-4871be85af2f",
   "metadata": {},
   "outputs": [
    {
     "name": "stdout",
     "output_type": "stream",
     "text": [
      "Nombre d'étapes : 3479\n",
      "Nombre d'étapes : 578\n",
      "Nombre d'étapes : 79\n",
      "Nombre d'étapes : 3\n",
      "Nombre d'étapes : 514\n",
      "Nombre d'étapes : 325\n"
     ]
    }
   ],
   "source": [
    "# nombre d'etapes pour diffenrets eta avec la fonction NewtonDescentNaive\n",
    "from projet1 import NewtonDescentNaive\n",
    "eta_values = [0.001,0.01,0.1,1,5,10]\n",
    "for i in eta_values:\n",
    "    result = NewtonDescentNaive(eps = 0.0001, theta0 = np.array([0 for _ in range(n)]), L=function1, eta=i)"
   ]
  },
  {
   "cell_type": "code",
   "execution_count": 18,
   "id": "af12a3f7-31e2-430f-8fec-e7ea01e70eff",
   "metadata": {},
   "outputs": [
    {
     "name": "stdout",
     "output_type": "stream",
     "text": [
      "Nombre d'étapes : 3395\n",
      "Nombre d'étapes : 559\n",
      "Nombre d'étapes : 69\n",
      "Nombre d'étapes : 28\n",
      "Nombre d'étapes : 28\n",
      "Nombre d'étapes : 28\n"
     ]
    }
   ],
   "source": [
    "# nombre d'etapes pour diffenrets eta avec la fonction BfgsDescent\n",
    "from projet1 import BfgsDescent\n",
    "eta_values = [0.001,0.01,0.1,1,5,10]\n",
    "for i in eta_values:\n",
    "    BfgsDescent(eps=0.0001, theta0=np.array([0 for _ in range(n)]), L=function1, eta=i)"
   ]
  },
  {
   "cell_type": "code",
   "execution_count": 56,
   "id": "c09dd16a-94df-44ed-851e-7578851d5603",
   "metadata": {},
   "outputs": [
    {
     "data": {
      "text/html": [
       "<div>\n",
       "<style scoped>\n",
       "    .dataframe tbody tr th:only-of-type {\n",
       "        vertical-align: middle;\n",
       "    }\n",
       "\n",
       "    .dataframe tbody tr th {\n",
       "        vertical-align: top;\n",
       "    }\n",
       "\n",
       "    .dataframe thead th {\n",
       "        text-align: right;\n",
       "    }\n",
       "</style>\n",
       "<table border=\"1\" class=\"dataframe\">\n",
       "  <thead>\n",
       "    <tr style=\"text-align: right;\">\n",
       "      <th></th>\n",
       "      <th>eta</th>\n",
       "      <th>GrandientDescent</th>\n",
       "      <th>NewtonDescentNaive</th>\n",
       "      <th>BfgsDescent</th>\n",
       "    </tr>\n",
       "  </thead>\n",
       "  <tbody>\n",
       "    <tr>\n",
       "      <th>0</th>\n",
       "      <td>10</td>\n",
       "      <td>300</td>\n",
       "      <td>325</td>\n",
       "      <td>28</td>\n",
       "    </tr>\n",
       "    <tr>\n",
       "      <th>1</th>\n",
       "      <td>5</td>\n",
       "      <td>447</td>\n",
       "      <td>514</td>\n",
       "      <td>28</td>\n",
       "    </tr>\n",
       "    <tr>\n",
       "      <th>2</th>\n",
       "      <td>1</td>\n",
       "      <td>92</td>\n",
       "      <td>3</td>\n",
       "      <td>28</td>\n",
       "    </tr>\n",
       "    <tr>\n",
       "      <th>3</th>\n",
       "      <td>0.1</td>\n",
       "      <td>10</td>\n",
       "      <td>74</td>\n",
       "      <td>64</td>\n",
       "    </tr>\n",
       "    <tr>\n",
       "      <th>4</th>\n",
       "      <td>0.01</td>\n",
       "      <td>721</td>\n",
       "      <td>521</td>\n",
       "      <td>494</td>\n",
       "    </tr>\n",
       "    <tr>\n",
       "      <th>5</th>\n",
       "      <td>0.001</td>\n",
       "      <td>4981</td>\n",
       "      <td>2910</td>\n",
       "      <td>2783</td>\n",
       "    </tr>\n",
       "  </tbody>\n",
       "</table>\n",
       "</div>"
      ],
      "text/plain": [
       "     eta  GrandientDescent  NewtonDescentNaive  BfgsDescent\n",
       "0     10               300                 325           28\n",
       "1      5               447                 514           28\n",
       "2      1                92                   3           28\n",
       "3    0.1                10                  74           64\n",
       "4   0.01               721                 521          494\n",
       "5  0.001              4981                2910         2783"
      ]
     },
     "execution_count": 56,
     "metadata": {},
     "output_type": "execute_result"
    }
   ],
   "source": [
    "# esp = 0.0001\n",
    "tableau1 = pd.DataFrame(\n",
    "    {'eta':[\"10\",\"5\",\"1\",\"0.1\",\"0.01\",\"0.001\"],\n",
    "     'GrandientDescent':[300,447,92,10,721,4981],\n",
    "     'NewtonDescentNaive':[325,514,3,74,521,2910],\n",
    "     'BfgsDescent':[28,28,28,64,494,2783]})\n",
    "tableau1"
   ]
  },
  {
   "cell_type": "code",
   "execution_count": 57,
   "id": "6f203368-270f-49d2-acd7-2c77c5940976",
   "metadata": {},
   "outputs": [
    {
     "name": "stdout",
     "output_type": "stream",
     "text": [
      "Nombre d'étapes : 96\n",
      "Nombre d'étapes : 53\n",
      "Nombre d'étapes : 31\n",
      "Nombre d'étapes : 10\n",
      "Nombre d'étapes : 2\n",
      "Nombre d'étapes : 2\n"
     ]
    }
   ],
   "source": [
    "# nombre d'etapes pour diffenrets eps avec la fonction GradientDescent\n",
    "eps_values = [0.00001,0.001,0.01,0.1,1,10]\n",
    "for i in eps_values:\n",
    "    result = GradientDescent(eps = i, theta0 = np.array([0 for _ in range(n)]), L=function1, eta = 0.1)"
   ]
  },
  {
   "cell_type": "code",
   "execution_count": 15,
   "id": "ae36bee9-4f2c-45de-8f89-647e6dd34b96",
   "metadata": {},
   "outputs": [
    {
     "name": "stdout",
     "output_type": "stream",
     "text": [
      "Nombre d'étapes : 99\n",
      "Nombre d'étapes : 56\n",
      "Nombre d'étapes : 34\n",
      "Nombre d'étapes : 12\n",
      "Nombre d'étapes : 2\n",
      "Nombre d'étapes : 2\n"
     ]
    }
   ],
   "source": [
    "# nombre d'etapes pour diffenrets eps avec la fonction NewtonDescentNaive\n",
    "eps_values = [0.00001,0.001,0.01,0.1,1,10]\n",
    "for i in eps_values:\n",
    "    result = NewtonDescentNaive(eps = i, theta0 = np.array([0 for _ in range(n)]), L=function1, eta=0.1)"
   ]
  },
  {
   "cell_type": "code",
   "execution_count": 61,
   "id": "c57ec2e8-6ceb-4bba-8e4c-ea6f34bba299",
   "metadata": {},
   "outputs": [
    {
     "name": "stdout",
     "output_type": "stream",
     "text": [
      "Nombre d'étapes : 36\n",
      "Nombre d'étapes : 36\n",
      "Nombre d'étapes : 36\n",
      "Nombre d'étapes : 36\n",
      "Nombre d'étapes : 2\n",
      "Nombre d'étapes : 2\n"
     ]
    }
   ],
   "source": [
    "# nombre d'etapes pour diffenrets eps avec la fonction BfgsDescent\n",
    "eps_values = [0.000000001,0.001,0.01,0.1,1,10]\n",
    "for i in eps_values:\n",
    "    result = BfgsDescent(eps=i, theta0=np.array([0 for _ in range(n)]), L=function1, eta=0.1)"
   ]
  },
  {
   "cell_type": "code",
   "execution_count": 18,
   "id": "c85d501c-8efe-4089-bf87-776e03cfcebb",
   "metadata": {},
   "outputs": [
    {
     "data": {
      "text/html": [
       "<div>\n",
       "<style scoped>\n",
       "    .dataframe tbody tr th:only-of-type {\n",
       "        vertical-align: middle;\n",
       "    }\n",
       "\n",
       "    .dataframe tbody tr th {\n",
       "        vertical-align: top;\n",
       "    }\n",
       "\n",
       "    .dataframe thead th {\n",
       "        text-align: right;\n",
       "    }\n",
       "</style>\n",
       "<table border=\"1\" class=\"dataframe\">\n",
       "  <thead>\n",
       "    <tr style=\"text-align: right;\">\n",
       "      <th></th>\n",
       "      <th>eps</th>\n",
       "      <th>GrandientDescent</th>\n",
       "      <th>NewtonDescentNaive</th>\n",
       "      <th>BfgsDescent</th>\n",
       "    </tr>\n",
       "  </thead>\n",
       "  <tbody>\n",
       "    <tr>\n",
       "      <th>0</th>\n",
       "      <td>10</td>\n",
       "      <td>2</td>\n",
       "      <td>2</td>\n",
       "      <td>2</td>\n",
       "    </tr>\n",
       "    <tr>\n",
       "      <th>1</th>\n",
       "      <td>1</td>\n",
       "      <td>2</td>\n",
       "      <td>2</td>\n",
       "      <td>2</td>\n",
       "    </tr>\n",
       "    <tr>\n",
       "      <th>2</th>\n",
       "      <td>0.1</td>\n",
       "      <td>8</td>\n",
       "      <td>8</td>\n",
       "      <td>9</td>\n",
       "    </tr>\n",
       "    <tr>\n",
       "      <th>3</th>\n",
       "      <td>0.01</td>\n",
       "      <td>30</td>\n",
       "      <td>30</td>\n",
       "      <td>27</td>\n",
       "    </tr>\n",
       "    <tr>\n",
       "      <th>4</th>\n",
       "      <td>0.001</td>\n",
       "      <td>50</td>\n",
       "      <td>52</td>\n",
       "      <td>45</td>\n",
       "    </tr>\n",
       "    <tr>\n",
       "      <th>5</th>\n",
       "      <td>0.0001</td>\n",
       "      <td>92</td>\n",
       "      <td>96</td>\n",
       "      <td>83</td>\n",
       "    </tr>\n",
       "  </tbody>\n",
       "</table>\n",
       "</div>"
      ],
      "text/plain": [
       "      eps  GrandientDescent  NewtonDescentNaive  BfgsDescent\n",
       "0      10                 2                   2            2\n",
       "1       1                 2                   2            2\n",
       "2     0.1                 8                   8            9\n",
       "3    0.01                30                  30           27\n",
       "4   0.001                50                  52           45\n",
       "5  0.0001                92                  96           83"
      ]
     },
     "execution_count": 18,
     "metadata": {},
     "output_type": "execute_result"
    }
   ],
   "source": [
    "# esp = 0.0001\n",
    "tableau2 = pd.DataFrame(\n",
    "    {'eps':[\"10\",\"1\",\"0.1\",\"0.01\",\"0.001\",\"0.0001\"],\n",
    "     'GrandientDescent':[2,2,8,30,50,92],\n",
    "     'NewtonDescentNaive':[2,2,8,30,52,96],\n",
    "     'BfgsDescent':[2,2,9,27,45,83]})\n",
    "tableau2"
   ]
  },
  {
   "cell_type": "code",
   "execution_count": 19,
   "id": "486e9e86-dfee-4792-83c2-8d319343e3a2",
   "metadata": {},
   "outputs": [],
   "source": [
    "import matplotlib.pyplot as plt\n",
    "from projet1 import GradientDescent1\n",
    "from projet1 import NewtonDescentNaive1\n",
    "from projet1 import BfgsDescent1"
   ]
  },
  {
   "cell_type": "code",
   "execution_count": 29,
   "id": "de9e2cc3-81e9-43f0-b0a0-124785a2e4ed",
   "metadata": {
    "scrolled": true
   },
   "outputs": [
    {
     "name": "stdout",
     "output_type": "stream",
     "text": [
      "Nombre d'étapes : 2\n",
      "Nombre d'étapes : 2\n",
      "Nombre d'étapes : 2\n",
      "Nombre d'étapes : 2\n",
      "Nombre d'étapes : 2\n",
      "Nombre d'étapes : 2\n",
      "Nombre d'étapes : 2\n",
      "Nombre d'étapes : 2\n",
      "Nombre d'étapes : 2\n",
      "Nombre d'étapes : 14\n",
      "Nombre d'étapes : 14\n",
      "Nombre d'étapes : 13\n",
      "Nombre d'étapes : 35\n",
      "Nombre d'étapes : 36\n",
      "Nombre d'étapes : 32\n",
      "Nombre d'étapes : 56\n",
      "Nombre d'étapes : 57\n",
      "Nombre d'étapes : 51\n",
      "Nombre d'étapes : 77\n",
      "Nombre d'étapes : 79\n",
      "Nombre d'étapes : 69\n",
      "Nombre d'étapes : 99\n",
      "Nombre d'étapes : 101\n",
      "Nombre d'étapes : 88\n",
      "Nombre d'étapes : 120\n",
      "Nombre d'étapes : 123\n",
      "Nombre d'étapes : 107\n"
     ]
    },
    {
     "data": {
      "text/plain": [
       "<function matplotlib.pyplot.show(close=None, block=None)>"
      ]
     },
     "execution_count": 29,
     "metadata": {},
     "output_type": "execute_result"
    },
    {
     "data": {
      "image/png": "[encoded data removed]",
      "text/plain": [
       "<Figure size 640x480 with 1 Axes>"
      ]
     },
     "metadata": {},
     "output_type": "display_data"
    }
   ],
   "source": [
    "vector = [100,10,1,.1,.01,.001,.0001,.00001,.000001]\n",
    "epsGD = []\n",
    "epsNDN = []\n",
    "epsBD = []\n",
    "for i in vector:\n",
    "    epsGD.append(GradientDescent1(eps=i, theta0 = np.array([0 for _ in range(n)]), L=function1, eta=0.1))\n",
    "    epsNDN.append(NewtonDescentNaive1(eps=i, theta0 = np.array([0 for _ in range(n)]), L=function1, eta=0.1))\n",
    "    epsBD.append(BfgsDescent1(eps=i, theta0=np.array([0 for _ in range(10)]), L=function1, eta=0.1))\n",
    "\n",
    "plt.plot(vector,epsGD,'o',label=\"GradientDescent\")\n",
    "plt.plot(vector,epsNDN,'x',label=\"NewtonDescentNaive\")\n",
    "plt.plot(vector,epsBD,'^', label=\"BfgsDescent\")\n",
    "plt.yscale('log')\n",
    "plt.xscale('log')\n",
    "\n",
    "plt.title(\"Nombre d'itération en fonction de epsilon\")\n",
    "plt.xlabel(\"epsilon\")\n",
    "plt.ylabel(\"Nombre d'itération\")\n",
    "plt.legend()\n",
    "plt.grid(True)\n",
    "plt.show"
   ]
  },
  {
   "cell_type": "code",
   "execution_count": 30,
   "id": "b88d1126-a866-4f71-9693-aa83a18b1e64",
   "metadata": {},
   "outputs": [
    {
     "name": "stdout",
     "output_type": "stream",
     "text": [
      "Nombre d'étapes : 152\n",
      "Nombre d'étapes : 157\n",
      "Nombre d'étapes : 27\n",
      "Nombre d'étapes : 301\n",
      "Nombre d'étapes : 325\n",
      "Nombre d'étapes : 28\n",
      "Nombre d'étapes : 8\n",
      "Nombre d'étapes : 3\n",
      "Nombre d'étapes : 28\n",
      "Nombre d'étapes : 77\n",
      "Nombre d'étapes : 79\n",
      "Nombre d'étapes : 69\n",
      "Nombre d'étapes : 563\n",
      "Nombre d'étapes : 578\n",
      "Nombre d'étapes : 559\n",
      "Nombre d'étapes : 3397\n",
      "Nombre d'étapes : 3479\n",
      "Nombre d'étapes : 3395\n",
      "Nombre d'étapes : 11679\n",
      "Nombre d'étapes : 11755\n",
      "Nombre d'étapes : 11642\n",
      "Nombre d'étapes : 2\n",
      "Nombre d'étapes : 2\n",
      "Nombre d'étapes : 2\n",
      "Nombre d'étapes : 2\n",
      "Nombre d'étapes : 2\n",
      "Nombre d'étapes : 2\n"
     ]
    },
    {
     "data": {
      "text/plain": [
       "<function matplotlib.pyplot.show(close=None, block=None)>"
      ]
     },
     "execution_count": 30,
     "metadata": {},
     "output_type": "execute_result"
    },
    {
     "data": {
      "image/png": "[encoded data removed]",
      "text/plain": [
       "<Figure size 640x480 with 1 Axes>"
      ]
     },
     "metadata": {},
     "output_type": "display_data"
    }
   ],
   "source": [
    "vector = [100,10,1,.1,.01,.001,.0001,.00001,.000001]\n",
    "etaGD = []\n",
    "etaNDN = []\n",
    "etaBD = []\n",
    "for i in vector:\n",
    "    etaGD.append(GradientDescent1(eps=0.0001, theta0 = np.array([0 for _ in range(n)]), L=function1, eta=i))\n",
    "    etaNDN.append(NewtonDescentNaive1(eps=0.0001, theta0 = np.array([0 for _ in range(n)]), L=function1, eta=i))\n",
    "    etaBD.append(BfgsDescent1(eps=0.0001, theta0=np.array([0 for _ in range(10)]), L=function1, eta=i))\n",
    "\n",
    "plt.plot(vector,etaGD,'o',label=\"GradientDescent\")\n",
    "plt.plot(vector,etaNDN,'x',label=\"NewtonDescentNaive\")\n",
    "plt.plot(vector,etaBD,'^', label=\"BfgsDescent\")\n",
    "plt.yscale('log')\n",
    "plt.xscale('log')\n",
    "\n",
    "plt.title(\"Nombre d'itération en fonction de epsilon\")\n",
    "plt.xlabel(\"epsilon\")\n",
    "plt.ylabel(\"Nombre d'itération\")\n",
    "plt.legend()\n",
    "plt.grid(True)\n",
    "plt.show"
   ]
  }
 ],
 "metadata": {
  "kernelspec": {
   "display_name": "Python 3 (ipykernel)",
   "language": "python",
   "name": "python3"
  },
  "language_info": {
   "codemirror_mode": {
    "name": "ipython",
    "version": 3
   },
   "file_extension": ".py",
   "mimetype": "text/x-python",
   "name": "python",
   "nbconvert_exporter": "python",
   "pygments_lexer": "ipython3",
   "version": "3.13.0"
  }
 },
 "nbformat": 4,
 "nbformat_minor": 5
}
