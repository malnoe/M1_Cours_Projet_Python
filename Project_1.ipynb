{
 "cells": [
  {
   "cell_type": "markdown",
   "id": "d6513e49-b1cc-4604-b563-cf8b1809fc6a",
   "metadata": {},
   "source": [
    "<table>\n",
    "<tr>\n",
    "<td width=15%><img src=\"../../img/UGA.png\"></img></td>\n",
    "<td><center><h1>Project n°1</h1></center></td>\n",
    "<td width=15%><a href=\"https://team.inria.fr/tripop/team-members/\" style=\"font-size: 16px; font-weight: bold\">Florian Vincent</a> </td>\n",
    "</tr>\n",
    "</table>"
   ]
  },
  {
   "cell_type": "markdown",
   "id": "ebed333f-332c-4de9-9ee5-ef2e980d49c5",
   "metadata": {},
   "source": [
    "# Basic numerical methods for convex optimization\n",
    "\n",
    "We will focus on this project in one very interesting problem that arises in multiple topics in data sciences: convex optimization and numerical methods.\n",
    "\n",
    "This project is adapted for students who wish to strengthen their understanding of the numpy library, and who prefer more math-leaning questions."
   ]
  },
  {
   "cell_type": "markdown",
   "id": "8d0c8560-e149-4bc0-90db-764ae510c90c",
   "metadata": {},
   "source": [
    "## Overlook on the topic\n",
    "\n",
    "The main question is to minimize or maximize a given scalar function of one or multiple parameters.\n",
    "In litterature, minimization problems are studied very frequently so we shall have a closer look at their mathematical expression:\n",
    "\n",
    "Let a parameter $\\theta$ represent the parameters of the function we wish to minimize, living in its space denoted $\\Theta$. This function is usually called a \"loss function\", so we denote it by:\n",
    "$$\n",
    "\\begin{array}{rlcl}L:&\\Theta\\subseteq\\mathbb{R}^n &\\to &\\mathbb{R}\\\\ &\\theta &\\to & L(\\theta)\\end{array}\n",
    "$$\n",
    "Thus the problem writes:\n",
    "$$\n",
    "\\min_{\\theta\\in\\Theta}L(\\theta)\n",
    "$$\n",
    "\n",
    "Some mathematical background teaches us that this minimization problem may have either one, multiple, or no feasible solutions.\n",
    "\n",
    "__Examples__:\n",
    "* For $L(\\theta):=\\theta$ with $\\theta\\in\\mathbb{R}$ we have no feasible solution.\n",
    "* For $L(\\theta):=\\theta^2-\\theta$ with $\\theta\\in\\mathbb{R}$ we have one feasible optimal solution for $\\hat{\\theta}=\\frac{1}{2}$\n",
    "* For $L(\\theta):=3\\cos(2\\pi\\theta)+2$ with $\\theta\\in\\mathbb{R}$ we have an infinity of optimal solutions $\\hat{\\theta}_k=k+\\frac{1}{2}$ $\\forall k\\in\\mathbb{Z}$.\n",
    "The main point is that when $L$ is strictly convex their must be at most one solution to the problem, which simplifies tremendously the research of $\\theta$.\n",
    "\n",
    "---\n",
    "\n",
    "Multiple methods have been invented to solve the problem described earlier, depending on the conditions of optimization of the function as well as its shape and regularity.\n",
    "We will study four methods in increasing order of difficulty of implementation:\n",
    "* The classical \"gradient descent\" method. It is very general and easy to implement.\n",
    "* The second order methods like the Newton algorithm, and its most well known cousin the BFGS method.\n",
    "* The stochastic optimisation methods, and its most trending one in machine learning: the Adam algorithm.\n",
    "\n",
    "Everything studied here is related to differentiable scalar-valued functions.\n",
    "\n",
    "## Applications of this topic\n",
    "\n",
    "What you will learn about in this project is the foundation of multiple domains of data sciences:\n",
    "* Most obvious of all: machne learning in which the Adam algorithm is a center piece.\n",
    "* Operational research in which the constraints $\\Theta$ play an extra important role.\n",
    "* Finance which relies on stochastic problems very often formulated as optimisation problems.\n",
    "* Physics in which computation of minimal action can lead to surprisingly difficult optimisation formulations.\n",
    "* Statistics questions like the research of _Maximum a-posteriori_ (MAP) estimators, or _Maximum Likelihood Estimation_ (MLE)"
   ]
  },
  {
   "cell_type": "markdown",
   "id": "72146a5b-0d85-4856-80cb-f84cdb1107a1",
   "metadata": {},
   "source": [
    "## Code and objectives\n",
    "\n",
    "This project needs to be done using python, and the numpy library as much as possible."
   ]
  },
  {
   "cell_type": "code",
   "execution_count": 1,
   "id": "a255ecef-53f2-4eac-800d-122deda81c9a",
   "metadata": {},
   "outputs": [],
   "source": [
    "import numpy as np"
   ]
  },
  {
   "cell_type": "markdown",
   "id": "b044a78d-8d62-4856-b1fd-17913c2d73a9",
   "metadata": {},
   "source": [
    "You will answer the questions by writting code and writing markdown comments to help your teaching staff see if every notion is well understood.\n",
    "Please note that the Jupyter notebook is only useful to __prototype the code__, not to write it all.\n",
    "Your report should contain this notebook, with a minimal amount of code added, and several python files containing the functions and classes you will make, that you can import in the notebook.\n",
    "Writting `class` and `def` statements in this notebook should be avoided as much as possible.\n",
    "\n",
    "This project is formulated such that you can use object-oriented programming (OOP) to answer the questions.\n",
    "This way, every question leads to the creation of a class that needs to be instanciated and properly commented."
   ]
  },
  {
   "cell_type": "markdown",
   "id": "e3f494d0-8918-439f-936f-aa91b856a06d",
   "metadata": {},
   "source": [
    "We will optimize at each exercise a function deriving by inheritance from the following class:"
   ]
  },
  {
   "cell_type": "code",
   "execution_count": 2,
   "id": "d4d793af-cee1-4121-b1e2-c466cfcd9253",
   "metadata": {},
   "outputs": [],
   "source": [
    "from baseloss import LossFunction"
   ]
  },
  {
   "cell_type": "markdown",
   "id": "f27c3b66-b2dd-48fa-a335-752e5dc4e80a",
   "metadata": {},
   "source": [
    "The optimisation procedures that you will write should inherit as well from its own base class:"
   ]
  },
  {
   "cell_type": "code",
   "execution_count": 3,
   "id": "9ec72cb7-4122-4def-8d48-b03e5ea51543",
   "metadata": {},
   "outputs": [],
   "source": [
    "from baseoptimizer import Optimizer"
   ]
  },
  {
   "cell_type": "markdown",
   "id": "ff3bcfa8-6931-4c4e-b571-919bdceaa9c1",
   "metadata": {},
   "source": [
    "### Exercise 1"
   ]
  },
  {
   "cell_type": "markdown",
   "id": "ab232c38-b3ae-4e82-8e82-beafa9c44768",
   "metadata": {},
   "source": [
    "The main algorithm for the optimisation of convex functions is called gradient descent.\n",
    "Its main idea is to use the taylor expansion of the function at a starting point and to try and find a \"local\" best guess for the next one.\n",
    "Say one is evaluating the loss at the point $\\theta_0$ and wishes to find locally (and at order 1) the best theta to go to around them, they may write for all directions $\\vec{p}$ somewhat keeping us close to $\\theta_0$:\n",
    "$$\n",
    "L(\\theta_0+\\vec{p}) = L(\\theta_0) + \\left<\\vec{p} | \\nabla L(\\theta_0)\\right> + \\mathcal{O}(\\|\\vec{p}\\|^2)\n",
    "$$\n",
    "(writting $<\\cdot |\\cdot>$ the scalar product between two vectors and $\\|\\cdot\\|$ the euclidian norm, and $\\nabla$ the vector containing the partial derivatives of $L$ with respect to its parameters).\n",
    "\n",
    "Minimizing locally (i.e. forgetting purposefuly about the remainder $\\mathcal{O}(\\|\\vec{p}\\|^2)$), we can make a clever choice of $\\vec{p}$:\n",
    "$$\n",
    "p:=-\\eta\\nabla L(\\theta_0)\n",
    "$$\n",
    "with $\\eta$ very small against $\\nabla L(\\theta_0)$. This way the expansion writes:\n",
    "$$\n",
    "L(\\theta_0-\\eta\\nabla L(\\theta_0)) = L(\\theta_0) + \\left<-\\eta\\nabla L(\\theta_0) | \\nabla L(\\theta_0)\\right> + \\mathcal{O}(\\|\\eta\\nabla L(\\theta_0)\\|^2) = L(\\theta_0) - \\eta\\|\\nabla L(\\theta_0)\\|^2+\\|\\nabla L(\\theta_0)\\|^2\\mathcal{O}(\\eta^2)\n",
    "$$\n",
    "If $\\eta$ is small enough, $\\mathcal{O}(\\eta^2)$ should be significantly smaller than $\\eta$, hence $(\\eta-\\mathcal{O}(\\eta^2))\\|\\nabla L(\\theta_0)\\|^2$ should be positive.\n",
    "We conclude that we have performed a descent since $L(\\theta_0-\\eta\\nabla L(\\theta_0)) < L(\\theta_0)$ !\n",
    "This yields the algorithm of the gradient descent :\n",
    "```\n",
    "Start at theta := theta_0\n",
    "While no convergence is observed:\n",
    "    set theta_new := theta - eta * gradient_oracle(L, theta)\n",
    "    forget theta, set theta := theta_new\n",
    "```"
   ]
  },
  {
   "cell_type": "markdown",
   "id": "77ac5e45-6538-4eca-ac32-36dfa1d6202c",
   "metadata": {},
   "source": [
    "**Implement gradient descent in a class called `GradientDescent`, performing on its internal parameter $\\theta$ the update described above for the function `function1` (suppose it is a convex function) starting at $\\theta_0:=\\vec{0}$. Study different values of $\\eta$, comment**. "
   ]
  },
  {
   "cell_type": "markdown",
   "id": "20527a6c-2dcc-436f-af21-cb45fd1220d8",
   "metadata": {},
   "source": [
    "Voici un exemple de résultat que l'on peut obtenir pour la méthode GradientDescent pour $n = 10$."
   ]
  },
  {
   "cell_type": "code",
   "execution_count": 4,
   "id": "991f2839-e521-457b-8e9b-c53b2acde326",
   "metadata": {},
   "outputs": [],
   "source": [
    "from utils import make_random_func1, make_random_func2\n",
    "from projet1 import gradient_descent, gradient_descent_1\n",
    "n = 10\n",
    "function1 = make_random_func1(10)"
   ]
  },
  {
   "cell_type": "code",
   "execution_count": 5,
   "id": "c891cb8c-4c3f-4b12-986b-fdb5ee111e8d",
   "metadata": {},
   "outputs": [
    {
     "name": "stdout",
     "output_type": "stream",
     "text": [
      "GradientDescent :\n",
      "Nombre d'étapes : 317\n",
      "(array([ 0.42964088,  1.18962673,  0.76566124,  0.71683606,  0.05898042,\n",
      "       -0.09349889,  0.19850166,  1.06652033, -1.27830362, -0.60173032]), 317)\n"
     ]
    }
   ],
   "source": [
    "print(\"GradientDescent :\")\n",
    "res = gradient_descent(eps = 0.001, theta0 = np.array([0 for _ in range(n)]), L=function1, eta = 0.01)\n",
    "print(res)"
   ]
  },
  {
   "cell_type": "markdown",
   "id": "17735fed-1c73-4445-b301-dccaf27b7132",
   "metadata": {},
   "source": [
    "On peut regarder ce qu'il se passe en fonction des variations des paramètres $\\eta$ et $\\epsilon$."
   ]
  },
  {
   "cell_type": "markdown",
   "id": "55e3df68-5c76-481f-987c-adc21d4cd646",
   "metadata": {},
   "source": [
    "Le paramètre $\\eta$ représente la taille du pas que l'on effectue, si $\\eta$ est grand, on avance beaucoup dans la direction du gradient."
   ]
  },
  {
   "cell_type": "code",
   "execution_count": 6,
   "id": "16f7c03e-61e6-44cb-baf4-9628397b5ee8",
   "metadata": {},
   "outputs": [
    {
     "name": "stdout",
     "output_type": "stream",
     "text": [
      "Nombre d'étapes : 317\n",
      "Nombre d'étapes : 54\n",
      "Nombre d'étapes : 8\n"
     ]
    }
   ],
   "source": [
    "# nombre d'etapes pour diffenrets eta avec la fonction GradientDescent\n",
    "eta_values = [0.01,0.1,1]\n",
    "for i in eta_values:\n",
    "    result = gradient_descent(eps = 0.001, theta0 = np.array([0 for _ in range(n)]), L=function1, eta = i)"
   ]
  },
  {
   "cell_type": "markdown",
   "id": "057be9b5-e07e-4b6c-bc08-5d3a377ce1d7",
   "metadata": {},
   "source": [
    "Plus $\\eta$ est petit, plus le nombre d'itérations est grand : on fait de plus petits pas donc on met plus de temps à converger."
   ]
  },
  {
   "cell_type": "markdown",
   "id": "ea543c82-dfa3-439b-b938-c3d2037827a8",
   "metadata": {},
   "source": [
    "Le paramètre $\\epsilon$ est notre condition de convergence. L'algorithme s'arrête lorsque la distance entre la dernière solution calculée et celle d'avant est suffisamment petite."
   ]
  },
  {
   "cell_type": "code",
   "execution_count": 7,
   "id": "2bcad829-8266-4320-881b-c634f36bae9d",
   "metadata": {},
   "outputs": [
    {
     "name": "stdout",
     "output_type": "stream",
     "text": [
      "Nombre d'étapes : 54\n",
      "Nombre d'étapes : 32\n",
      "Nombre d'étapes : 11\n",
      "Nombre d'étapes : 2\n"
     ]
    }
   ],
   "source": [
    "# nombre d'etapes pour diffenrets eps avec la fonction GradientDescent\n",
    "eps_values = [0.001,0.01,0.1,1]\n",
    "for i in eps_values:\n",
    "    result = gradient_descent(eps = i, theta0 = np.array([0 for _ in range(n)]), L=function1, eta = 0.1)"
   ]
  },
  {
   "cell_type": "markdown",
   "id": "9ac30547-2dd4-41cf-858a-8c67351a54b5",
   "metadata": {},
   "source": [
    "Plus $\\epsilon$ est petit, plus le nombre d'itérations est grand : on veut une solution plus précise donc il faut des étapes supplémentaires pour affiner la solution."
   ]
  },
  {
   "cell_type": "markdown",
   "id": "e90aee68-1d83-4cba-a188-90c14438e190",
   "metadata": {},
   "source": [
    "### Exercise 2\n",
    "\n",
    "Closely related to the standard gradient descent, many have studied variation of the algorithm to account for more informations on the loss.\n",
    "\n",
    "So-called Newton methods arise when one tries to expend the Taylor expansion above to more terms:\n",
    "$$\n",
    "L(\\theta_0+\\vec{p})=L(\\theta_0)+\\left<\\vec{p}|\\nabla L(\\theta_0)\\right> + \\frac{1}{2!}\\left<\\vec{p}|\\nabla^2L(\\theta_0)\\vec{p}\\right> + \\mathcal{O}(\\|\\vec{p}\\|^3)\n",
    "$$\n",
    "where $\\nabla^2$ denotes the hessian of the loss, i.e. its second order derivatives.\n",
    "Note that since we study a scalar-valued loss, the gradient is a vector and the hessian is a matrix.\n",
    "\n",
    "To solve this, the Newton method uses the information from the hessian by updating $\\vec{p}$ with the inverse of the hessian:\n",
    "$$\n",
    "\\vec{p}:=-\\eta\\nabla^{\\textbf{-2}}L(\\theta_0)\\nabla L(\\theta_0)\n",
    "$$\n",
    "This formula stems from the local minimization of the Taylor expansion. To see that, take the gradient of the top equation with respect to $\\vec{p}$ and make it null (this is a classical optimality condition result, the minimum is achieved where the gradient is null):\n",
    "$$\n",
    "\\begin{array}{ll}&\\nabla L(\\theta_0)+\\nabla^2L(\\theta_0)\\vec{p}=\\vec{0}\\\\ \\therefore & \\vec{p}:=-\\nabla^{\\textbf{-2}}L(\\theta_0)\\nabla L(\\theta_0)\\end{array}\n",
    "$$\n",
    "Notice how the \"learning rate\" has disapeared and the inverse hessian somehow \"took its place\".\n",
    "\n",
    "**Implement the Newton method as `NewtonDescentNaive` starting at $\\theta_0:=\\vec{0}$, using the `hessian_oracle` method of `function2` (suppose it is a convex twice-differentiable function) to get its hessian. You will use the invert of the hessian, noted $\\nabla^{-2}L$ in the above equation, to perform the step.**"
   ]
  },
  {
   "cell_type": "markdown",
   "id": "774874b0-8257-40ef-b7c4-eb38956cf7be",
   "metadata": {},
   "source": [
    "Remarque : On suppose que la fonction est strictement convexe pour garantir le fait que la matrice hessienne soit définie positive et donc inversible. Dans le cas contraire, la hessienne admet une valeur propre nulle et n'est donc pas inversible (elle est semi définie positive)."
   ]
  },
  {
   "cell_type": "code",
   "execution_count": 91,
   "id": "0eb607a6-547a-45bf-8fab-647b3bea3756",
   "metadata": {},
   "outputs": [],
   "source": [
    "from projet1 import newton_descent_naive, newton_descent_naive_1\n",
    "n=10\n",
    "function2 = make_random_func1(n)"
   ]
  },
  {
   "cell_type": "code",
   "execution_count": 92,
   "id": "d3c64ccf-2db1-427f-ac88-e6d20f46b346",
   "metadata": {},
   "outputs": [
    {
     "name": "stdout",
     "output_type": "stream",
     "text": [
      "NewtonNaive :\n",
      "Nombre d'étapes : 312\n",
      "(array([ 0.08689689, -0.21527015,  0.3466508 , -0.29522668, -1.18685355,\n",
      "        0.21046485, -1.15181619,  0.65456858, -0.58700905,  0.9077614 ]), 312)\n"
     ]
    }
   ],
   "source": [
    "print(\"NewtonNaive :\")\n",
    "res = newton_descent_naive(eps = 0.001, theta0 = np.array([0 for _ in range(n)]), L=function2,eta=0.01)\n",
    "print(res)"
   ]
  },
  {
   "cell_type": "markdown",
   "id": "48a018e2-663a-4d7b-a2e5-70c6869b4b65",
   "metadata": {},
   "source": [
    "De nouveau, on peut regarder ce qu'il se passe en fonction des paramètres $\\epsilon$ et $\\eta$."
   ]
  },
  {
   "cell_type": "code",
   "execution_count": 93,
   "id": "794a2059-a821-4163-93be-2f23285c3e54",
   "metadata": {
    "scrolled": true
   },
   "outputs": [
    {
     "name": "stdout",
     "output_type": "stream",
     "text": [
      "Nombre d'étapes : 3280\n",
      "Nombre d'étapes : 558\n",
      "Nombre d'étapes : 77\n",
      "Nombre d'étapes : 3\n"
     ]
    }
   ],
   "source": [
    "eta_values = [0.001,0.01,0.1,1]\n",
    "for i in eta_values:\n",
    "    result = newton_descent_naive(eps = 0.0001, theta0 = np.array([0 for _ in range(n)]), L=function1, eta=i)"
   ]
  },
  {
   "cell_type": "markdown",
   "id": "4dd63131-9778-46ae-bc6b-e56dfe54c2e4",
   "metadata": {},
   "source": [
    "On remarque à nouveau que plus $\\eta$ est petit, plus le nombre d'itérations est grand. Cela vient à nouveau du fait que prendre un pas plus grand permet d'avancer plus rapidement vers la solution."
   ]
  },
  {
   "cell_type": "code",
   "execution_count": 94,
   "id": "24ee022f-06cf-4a9b-980e-9179a3f55cf9",
   "metadata": {},
   "outputs": [
    {
     "name": "stdout",
     "output_type": "stream",
     "text": [
      "Nombre d'étapes : 99\n",
      "Nombre d'étapes : 77\n",
      "Nombre d'étapes : 55\n",
      "Nombre d'étapes : 34\n",
      "Nombre d'étapes : 12\n",
      "Nombre d'étapes : 2\n",
      "Nombre d'étapes : 2\n"
     ]
    }
   ],
   "source": [
    "eps_values = [0.00001,0.0001,0.001,0.01,0.1,1,10]\n",
    "for i in eps_values:\n",
    "    result = newton_descent_naive(eps = i, theta0 = np.array([0 for _ in range(n)]), L=function1, eta=0.1)"
   ]
  },
  {
   "cell_type": "markdown",
   "id": "198d68e0-cf2c-4ad0-9a01-cf679af08f88",
   "metadata": {},
   "source": [
    "On remarque que plus $\\epsilon$ est petit, plus le nombre d'itérations est grand.  "
   ]
  },
  {
   "cell_type": "markdown",
   "id": "c425c2ca-7ee5-434b-bfc4-bc4ca7d02160",
   "metadata": {},
   "source": [
    "**Try to make a new version of this solver, `NewtonDescentClever`, which solves the linear system of equations $-\\eta\\nabla^2L(\\theta_0)\\vec{p}=\\nabla L(\\theta_0)$ at each step.\n",
    "Measure the difference in computing time on `function3`.\n",
    "How many iterations does it need?\n",
    "Knowing that the mystery function that you optimize is $L(\\theta)=\\frac{1}{2}\\theta^TA\\theta+b\\theta$ with $A$ an spd matrixKnowing that the mystery function that you optimize is $L(\\theta)=\\frac{1}{2}\\theta^TA\\theta+b\\theta$ with $A$ an spd matrix, can you explain this performance? Would it be the same for another function?**"
   ]
  },
  {
   "cell_type": "code",
   "execution_count": 95,
   "id": "fe124419-ec68-472b-929e-3c8c2c4bf257",
   "metadata": {},
   "outputs": [],
   "source": [
    "from projet1 import newton_descent_clever\n",
    "n=10\n",
    "function3 = make_random_func1(n)"
   ]
  },
  {
   "cell_type": "code",
   "execution_count": 96,
   "id": "d77fcafc-125e-4cdb-992a-2c566d5594f9",
   "metadata": {},
   "outputs": [
    {
     "name": "stdout",
     "output_type": "stream",
     "text": [
      "DescentClever :\n",
      "[ 0.05793595 -0.36398674 -0.17576641 -0.22281183  0.25010788 -0.28367383\n",
      "  0.1363413  -0.48384766  0.64879047 -0.64892184]\n"
     ]
    }
   ],
   "source": [
    "print(\"DescentClever :\")\n",
    "res = newton_descent_clever(theta0 = np.array([0 for _ in range(n)]), L=function3)\n",
    "print(res)"
   ]
  },
  {
   "cell_type": "markdown",
   "id": "989b5ed1-d0ed-4405-8da0-e4910f928204",
   "metadata": {},
   "source": [
    "Cette méthode ne nécessite qu'une seule itération, on calcule en une seule fois le résultat. Cette performance est liée à la forme spécifique de la fonction que l'on cherche à optimiser."
   ]
  },
  {
   "cell_type": "markdown",
   "id": "9546f9f7-9257-4ed1-86dc-01fa293a8b77",
   "metadata": {},
   "source": [
    "<img src=\"latex.png\">"
   ]
  },
  {
   "cell_type": "markdown",
   "id": "407e27c3-0601-40e8-a30a-bc7ec4e057e0",
   "metadata": {},
   "source": [
    "### Exercise 3\n",
    "\n",
    "Usualy, the hessian itself is not available to the user, so one may wish to find good approximates for Newton methods.\n",
    "This yields so-called Quasi-Newton methods.\n",
    "\n",
    "The most used are all the BFGS methods (standing for \"Broyden–Fletcher–Goldfarb–Shanno\").\n",
    "\n",
    "The main idea is to update the estimation of the inverse hessian by a low-rank matrix (it should span few dimensions, here 2).\n",
    "\n",
    "This update matrix is described as a weighted sum of:\n",
    "* a projector for the change of gradient $y:=\\nabla L(\\theta_1) - \\nabla L(\\theta_0)$ which as a rank-one matrix is proportional to $yy^T$\n",
    "* a projector for the Newtonian system of equations $s_b:=\\nabla^{-2}L(\\theta_1)(\\theta_1-\\theta_0)$ which as a rank-one matrix is proportional to $s_bs_b^T$. We note $s_b=\\nabla^{-2}L(\\theta_1)s$ with $s$ the change of parameters.\n",
    "\n",
    "The update rule then writes, for $B$ a local approximation of $\\nabla^{-2}L$, noting the outer product $a\\otimes b:=ab^T$ for vectors:\n",
    "$$\n",
    "B_k = B_{k-1} + \\frac{y\\otimes y}{<y|s>} - \\frac{s_b\\otimes s_b}{<s|s_b>}\n",
    "$$\n",
    "\n",
    "The advantage is that the algorithm does not need to invert a full rank system.\n",
    "\n",
    "Here is the algorithm:\n",
    "```\n",
    "Start at:\n",
    "    theta := theta_0\n",
    "    B := Id\n",
    "    grad := gradient_oracle(theta_0)\n",
    "Perform a normal gradient step on theta\n",
    "\n",
    "While no convergence observed:\n",
    "    Set grad_new at gradient_oracle(theta)\n",
    "    Set theta_new to theta - eta * matrix_product( B , grad )\n",
    "    Compute s = theta_new - theta\n",
    "    Compute y = grad_new - grad\n",
    "    Set B_new = B + outer( y , y ) / inner( y , s ) - outer( Bs , Bs ) / inner( s , Bs )\n",
    "    Forget last B, y, s, theta and grad \n",
    "```\n",
    "\n",
    "**Implement the BFGS algorithm in a new `BfgsDescent` class, and test it on the function `function4`. Warning: do NOT use the hessian oracle.**"
   ]
  },
  {
   "cell_type": "code",
   "execution_count": 8,
   "id": "4d239254-ae90-4244-9e16-0b419be746a0",
   "metadata": {},
   "outputs": [],
   "source": [
    "from projet1 import bfgs_descent, bfgs_descent_1\n",
    "n=10\n",
    "function4 = make_random_func1(n)"
   ]
  },
  {
   "cell_type": "code",
   "execution_count": 9,
   "id": "20dde71f-5015-464c-bd94-d4e93113f819",
   "metadata": {},
   "outputs": [
    {
     "name": "stdout",
     "output_type": "stream",
     "text": [
      "Nombre d'étapes : 2\n"
     ]
    },
    {
     "data": {
      "text/plain": [
       "array([-0.00710802, -0.00466024, -0.00579362, -0.00363   , -0.00045351,\n",
       "        0.00109865,  0.00308133, -0.03436031, -0.00092651, -0.01063302])"
      ]
     },
     "execution_count": 9,
     "metadata": {},
     "output_type": "execute_result"
    }
   ],
   "source": [
    "bfgs_descent(eps=1, theta0=np.array([0 for _ in range(n)]), L=function4, eta=0.01)\n",
    "# Remarque : on ne doit pas prendre un epsilon trop petit parce que sinon s et y deviennent très proches de 0 ce qui amène à des erreurs machine."
   ]
  },
  {
   "cell_type": "markdown",
   "id": "68890b72-64a0-447f-881f-f47fdfe0faf6",
   "metadata": {},
   "source": [
    "Comparaison pour différents eta"
   ]
  },
  {
   "cell_type": "code",
   "execution_count": 99,
   "id": "37a0f6cb-3bf2-478d-ad4d-eaaae640076d",
   "metadata": {},
   "outputs": [
    {
     "name": "stdout",
     "output_type": "stream",
     "text": [
      "Nombre d'étapes : 15\n",
      "Nombre d'étapes : 17\n",
      "Nombre d'étapes : 40\n",
      "Nombre d'étapes : 27\n",
      "Nombre d'étapes : 27\n",
      "Nombre d'étapes : 26\n"
     ]
    }
   ],
   "source": [
    "# nombre d'etapes pour diffenrets eta avec la fonction BfgsDescent\n",
    "eta_values = [0.001,0.01,0.1,1,5,10]\n",
    "for i in eta_values:\n",
    "    bfgs_descent(eps=0.0001, theta0=np.array([0 for _ in range(n)]), L=function1, eta=i)"
   ]
  },
  {
   "cell_type": "markdown",
   "id": "d5fb797a-d6a8-4e26-b2cf-d5db80154bcd",
   "metadata": {},
   "source": [
    "On remarque que plus $\\eta$ est petit, plus le nombre d'itérations nécessaires est grand."
   ]
  },
  {
   "cell_type": "markdown",
   "id": "efb39d3b-bb14-423f-91e7-09986752f691",
   "metadata": {},
   "source": [
    "Comparaison pour différents $\\epsilon$."
   ]
  },
  {
   "cell_type": "code",
   "execution_count": 100,
   "id": "a32eec34-3169-4269-86c8-04bbe499446a",
   "metadata": {},
   "outputs": [
    {
     "name": "stdout",
     "output_type": "stream",
     "text": [
      "Nombre d'étapes : 40\n",
      "Nombre d'étapes : 20\n",
      "Nombre d'étapes : 16\n",
      "Nombre d'étapes : 12\n",
      "Nombre d'étapes : 2\n",
      "Nombre d'étapes : 2\n"
     ]
    }
   ],
   "source": [
    "# nombre d'etapes pour diffenrets eps avec la fonction BfgsDescent\n",
    "eps_values = [0.000000001,0.001,0.01,0.1,1,10]\n",
    "for i in eps_values:\n",
    "    result = bfgs_descent(eps=i, theta0=np.array([0 for _ in range(n)]), L=function1, eta=0.1)"
   ]
  },
  {
   "cell_type": "markdown",
   "id": "755c2b6f-778d-4255-ac7e-1f784874c0d9",
   "metadata": {},
   "source": [
    "On remarque que plus $\\epsilon$ est petit, plus le nombre d'itérations nécessaires est grand.   "
   ]
  },
  {
   "cell_type": "markdown",
   "id": "4cca5628-1f95-436c-8c9e-575285abb9fc",
   "metadata": {},
   "source": [
    "### Résultats\n",
    "Pour exploiter les résultats, on va générer 4 fonctions quadratiques convexes à inconnue dans $R^{10}$.  \n",
    "**IMPORTANT:** pour chaque fonction, faire en sorte que l'algorithme BfgsDescent() ne donne pas un vecteur de `nan` mais bien un vecteur numérique. Continuez d'exécuter le code de la cellule jusqu'à ce que soit bon. "
   ]
  },
  {
   "cell_type": "code",
   "execution_count": 11,
   "id": "c513700d-3779-4bce-9672-7b5b3d8c3130",
   "metadata": {},
   "outputs": [
    {
     "name": "stdout",
     "output_type": "stream",
     "text": [
      "Nombre d'étapes : 24\n"
     ]
    },
    {
     "data": {
      "text/plain": [
       "array([  876.11323322,  -549.65253667,  1891.44652154,   162.99342983,\n",
       "         616.76644926, -1087.46719225,  2525.5243077 ,   727.63497099,\n",
       "         316.96849427, -1445.60274301])"
      ]
     },
     "execution_count": 11,
     "metadata": {},
     "output_type": "execute_result"
    }
   ],
   "source": [
    "n=10\n",
    "function7 = make_random_func1(n)\n",
    "bfgs_descent(eps=0.0001, theta0=np.array([0 for _ in range(n)]), L=function7, eta=0.1)"
   ]
  },
  {
   "cell_type": "code",
   "execution_count": 12,
   "id": "205967fc-4551-44f4-8d32-62381fe015e0",
   "metadata": {},
   "outputs": [
    {
     "name": "stdout",
     "output_type": "stream",
     "text": [
      "Nombre d'étapes : 18\n"
     ]
    },
    {
     "data": {
      "text/plain": [
       "array([-0.2746302 ,  0.7244945 ,  0.04444237, -0.07799564,  1.19722348,\n",
       "        0.16048332,  0.58405139,  0.82262389,  0.52409365, -0.65359867])"
      ]
     },
     "execution_count": 12,
     "metadata": {},
     "output_type": "execute_result"
    }
   ],
   "source": [
    "function8 = make_random_func1(n)\n",
    "bfgs_descent(eps=0.0001, theta0=np.array([0 for _ in range(n)]), L=function8, eta=0.1)"
   ]
  },
  {
   "cell_type": "code",
   "execution_count": 13,
   "id": "4d68e0fd-e036-40db-836f-b098864fbd34",
   "metadata": {},
   "outputs": [
    {
     "name": "stdout",
     "output_type": "stream",
     "text": [
      "Nombre d'étapes : 22\n"
     ]
    },
    {
     "data": {
      "text/plain": [
       "array([ 110.46910369,  -34.58384509,   64.76230023, -551.00401735,\n",
       "       -142.16076773,  592.65229615,  215.58026994, -186.53005135,\n",
       "         12.72681983, -198.93988856])"
      ]
     },
     "execution_count": 13,
     "metadata": {},
     "output_type": "execute_result"
    }
   ],
   "source": [
    "function9 = make_random_func1(n)\n",
    "bfgs_descent(eps=0.0001, theta0=np.array([0 for _ in range(n)]), L=function9, eta=0.1)"
   ]
  },
  {
   "cell_type": "code",
   "execution_count": 104,
   "id": "b185fb39-091b-411e-ace4-bf434356b7ac",
   "metadata": {},
   "outputs": [
    {
     "name": "stdout",
     "output_type": "stream",
     "text": [
      "Nombre d'étapes : 20\n"
     ]
    },
    {
     "data": {
      "text/plain": [
       "array([-497.35278094,  287.88753823,   -9.15838412, -586.71150781,\n",
       "        908.05638256,  199.98761502,  304.49640909,  145.05271847,\n",
       "        378.25768789,  -59.36325451])"
      ]
     },
     "execution_count": 104,
     "metadata": {},
     "output_type": "execute_result"
    }
   ],
   "source": [
    "function10 = make_random_func1(n)\n",
    "bfgs_descent(eps=0.0001, theta0=np.array([0 for _ in range(n)]), L=function10, eta=0.1)"
   ]
  },
  {
   "cell_type": "markdown",
   "id": "b9011acb-d6ea-4f3f-a5f1-4b45554b025a",
   "metadata": {},
   "source": [
    "#### Paramètre eta et epsilon\n",
    "\n",
    "Le paramètre eta représente le pas pris à chaque itération dans la direction dans laquelle on avance pour trouver le minimum local.  \n",
    "Le paramètre espilon réprésente la contrainte de convergence. C'est-à-dire à partir de quelle distance entre deux points, on considère que l'algorithme converge.\n",
    "  \n",
    "Pour une même fonction quadratique convexe $f(x)$ avec $x \\in \\mathbb{R}^{10}$ et un epsilon $\\epsilon=0.0001$ fixé, on fait varier eta dans $\\eta \\in \\{100,10,1,.1,.01,.001,.0001,.00001,.000001\\}$ et on calcule le nombre d'itérations que les différentes fonctions prennent avant de converger vers un résultat. "
   ]
  },
  {
   "cell_type": "code",
   "execution_count": 105,
   "id": "cd4093f0-6421-43a1-b695-466137e6f6f2",
   "metadata": {},
   "outputs": [
    {
     "data": {
      "text/plain": [
       "<function matplotlib.pyplot.show(close=None, block=None)>"
      ]
     },
     "execution_count": 105,
     "metadata": {},
     "output_type": "execute_result"
    },
    {
     "data": {
      "image/png": "[encoded data removed]",
      "text/plain": [
       "<Figure size 640x480 with 1 Axes>"
      ]
     },
     "metadata": {},
     "output_type": "display_data"
    }
   ],
   "source": [
    "import matplotlib.pyplot as plt\n",
    "\n",
    "vector = [1,.1,.01,.001,.0001,.00001,.000001]\n",
    "etaGD = []\n",
    "etaNDN = []\n",
    "etaBD = []\n",
    "for i in vector:\n",
    "    etaGD.append(gradient_descent_1(eps=0.0001, theta0 = np.array([0 for _ in range(n)]), L=function7, eta=i))\n",
    "    etaNDN.append(newton_descent_naive_1(eps=0.0001, theta0 = np.array([0 for _ in range(n)]), L=function7, eta=i))\n",
    "    etaBD.append(bfgs_descent_1(eps=0.0001, theta0=np.array([0 for _ in range(10)]), L=function7, eta=i))\n",
    "\n",
    "plt.plot(vector,etaGD,'o',label=\"GradientDescent\")\n",
    "plt.plot(vector,etaNDN,'x',label=\"NewtonDescentNaive\")\n",
    "plt.plot(vector,etaBD,'^', label=\"BfgsDescent\")\n",
    "plt.yscale('log')\n",
    "plt.xscale('log')\n",
    "\n",
    "plt.title(\"Nombre d'itération en fonction de eta\")\n",
    "plt.xlabel(\"eta\")\n",
    "plt.ylabel(\"Nombre d'itération\")\n",
    "plt.legend()\n",
    "plt.grid(True)\n",
    "plt.show"
   ]
  },
  {
   "cell_type": "markdown",
   "id": "9a823c06-68f4-4f29-974a-da7168da9282",
   "metadata": {},
   "source": [
    "On voit que pour $\\eta=1$, les algorithmes GradientDescent et NewtonDescentNaive convergent le plus rapidement en terme de nombre d'itérations.  \n",
    "Plus $\\eta$ est petit, plus les algorithmes prennent un grand nombre d'itérations pour converger. Lorsque le pas $\\eta$ est petit, les algorithmes prennent plus de temps pour avancer le long de la courbe vers le minimum local.  \n",
    "Lorsque $\\eta$ est trop petit (en bas à gauche du graphique), python prend trop de temps pour faire les calculs et ne fonctionne pas, d'où les 2 itérations pour converger pour $\\eta \\le 10^{-5}$."
   ]
  },
  {
   "cell_type": "markdown",
   "id": "0756aec6-57e5-4826-bc3c-18afca8fe316",
   "metadata": {},
   "source": [
    "Maintenant on fixe eta à $\\eta=0.1$ et on fait varier epsilon dans $\\epsilon \\in \\{100,10,1,.1,.01,.001,.0001,.00001,.000001\\}$. On calcule le nombre d'itérations que les différentes fonctions prennent avant de converger vers un résultat. On prend délibérément $\\eta=0.1$ et pas la valeur optimale de 1 trouvée précédemment afin que les algorithmes ne convergent pas trop vite et qu'on puisse facilement comparer le nombre d'itérations qu'ils prennent pour converger."
   ]
  },
  {
   "cell_type": "code",
   "execution_count": 106,
   "id": "69f0f2e2-16fb-467d-806b-a889bb6d7d1f",
   "metadata": {},
   "outputs": [
    {
     "data": {
      "text/plain": [
       "<function matplotlib.pyplot.show(close=None, block=None)>"
      ]
     },
     "execution_count": 106,
     "metadata": {},
     "output_type": "execute_result"
    },
    {
     "data": {
      "image/png": "[encoded data removed]",
      "text/plain": [
       "<Figure size 640x480 with 1 Axes>"
      ]
     },
     "metadata": {},
     "output_type": "display_data"
    }
   ],
   "source": [
    "vector = [100,10,1,.1,.01,.001,.0001,.00001,.000001]\n",
    "epsGD = []\n",
    "epsNDN = []\n",
    "epsBD = []\n",
    "for i in vector:\n",
    "    epsGD.append(gradient_descent_1(eps=i, theta0 = np.array([0 for _ in range(n)]), L=function7, eta=0.1))\n",
    "    epsNDN.append(newton_descent_naive_1(eps=i, theta0 = np.array([0 for _ in range(n)]), L=function7, eta=0.1))\n",
    "    epsBD.append(bfgs_descent_1(eps=i, theta0=np.array([0 for _ in range(10)]), L=function7, eta=0.1))\n",
    "\n",
    "plt.plot(vector,epsGD,'o',label=\"GradientDescent\")\n",
    "plt.plot(vector,epsNDN,'x',label=\"NewtonDescentNaive\")\n",
    "plt.plot(vector,epsBD,'^', label=\"BfgsDescent\")\n",
    "plt.yscale('log')\n",
    "plt.xscale('log')\n",
    "\n",
    "plt.title(\"Nombre d'itération en fonction de epsilon\")\n",
    "plt.xlabel(\"epsilon\")\n",
    "plt.ylabel(\"Nombre d'itération\")\n",
    "plt.legend()\n",
    "plt.grid(True)\n",
    "plt.show"
   ]
  },
  {
   "cell_type": "markdown",
   "id": "ec5f0be2-5cbe-4326-b4b6-391a65d02182",
   "metadata": {},
   "source": [
    "Pour tous les algorithmes, plus $\\epsilon$ est petit, plus le nombre d'itérations augmente. En effet, plus la contrainte de convergence est petite, plus les algorithmes prendront d'itérations à la vérifier. \n",
    "Lorsque $\\epsilon$ est grand, les algorithmes valident vite la condition de convergence, même si en réalité, le véritable minimum n'est probablement pas atteint."
   ]
  },
  {
   "cell_type": "markdown",
   "id": "2c20e54b-e33c-4e54-bc0e-a2a488007811",
   "metadata": {},
   "source": [
    "#### Comparaison des modèles\n",
    "\n",
    "On compare le nombre d'itérations que les algorithmes GradientDescent, NewtonDescentNaive et BfgsDescent prennent avant de converger.  \n",
    "On va tester ces méthodes sur 4 fonctions quadratiques convexes function7, function8, function9 et function10 à inconnue dans $R^{10}$, avec $\\epsilon=0.001$ et $\\eta=0.1$."
   ]
  },
  {
   "cell_type": "code",
   "execution_count": 107,
   "id": "e7b1f05b-94fa-4571-b545-35b942ef0adc",
   "metadata": {},
   "outputs": [
    {
     "data": {
      "text/html": [
       "<div>\n",
       "<style scoped>\n",
       "    .dataframe tbody tr th:only-of-type {\n",
       "        vertical-align: middle;\n",
       "    }\n",
       "\n",
       "    .dataframe tbody tr th {\n",
       "        vertical-align: top;\n",
       "    }\n",
       "\n",
       "    .dataframe thead th {\n",
       "        text-align: right;\n",
       "    }\n",
       "</style>\n",
       "<table border=\"1\" class=\"dataframe\">\n",
       "  <thead>\n",
       "    <tr style=\"text-align: right;\">\n",
       "      <th></th>\n",
       "      <th>eta</th>\n",
       "      <th>GradientDescent</th>\n",
       "      <th>NewtonDescentNaive</th>\n",
       "      <th>BfgsDescent</th>\n",
       "    </tr>\n",
       "  </thead>\n",
       "  <tbody>\n",
       "    <tr>\n",
       "      <th>0</th>\n",
       "      <td>function7</td>\n",
       "      <td>56</td>\n",
       "      <td>58</td>\n",
       "      <td>18</td>\n",
       "    </tr>\n",
       "    <tr>\n",
       "      <th>1</th>\n",
       "      <td>function8</td>\n",
       "      <td>53</td>\n",
       "      <td>56</td>\n",
       "      <td>22</td>\n",
       "    </tr>\n",
       "    <tr>\n",
       "      <th>2</th>\n",
       "      <td>function9</td>\n",
       "      <td>57</td>\n",
       "      <td>58</td>\n",
       "      <td>18</td>\n",
       "    </tr>\n",
       "    <tr>\n",
       "      <th>3</th>\n",
       "      <td>function10</td>\n",
       "      <td>58</td>\n",
       "      <td>60</td>\n",
       "      <td>20</td>\n",
       "    </tr>\n",
       "  </tbody>\n",
       "</table>\n",
       "</div>"
      ],
      "text/plain": [
       "          eta  GradientDescent  NewtonDescentNaive  BfgsDescent\n",
       "0   function7               56                  58           18\n",
       "1   function8               53                  56           22\n",
       "2   function9               57                  58           18\n",
       "3  function10               58                  60           20"
      ]
     },
     "execution_count": 107,
     "metadata": {},
     "output_type": "execute_result"
    }
   ],
   "source": [
    "import pandas as pd\n",
    "\n",
    "res_GD = []\n",
    "res_NDN = []\n",
    "res_BD = []\n",
    "\n",
    "for f in [function7,function8,function9, function10]:\n",
    "    res_GD.append(gradient_descent_1(eps=0.001, theta0 = np.array([0 for _ in range(n)]), L=f, eta=0.1))\n",
    "    res_NDN.append(newton_descent_naive_1(eps=0.001, theta0 = np.array([0 for _ in range(n)]), L=f, eta=0.1))\n",
    "    res_BD.append(bfgs_descent_1(eps=0.001, theta0=np.array([0 for _ in range(n)]), L=f, eta=0.1))    \n",
    "\n",
    "tableau_nb_iteration = pd.DataFrame(\n",
    "    {'eta':[\"function7\",\"function8\",\"function9\",\"function10\"],\n",
    "     'GradientDescent':[res_GD[0],res_GD[1],res_GD[2],res_GD[3]],\n",
    "     'NewtonDescentNaive':[res_NDN[0],res_NDN[1],res_NDN[2],res_NDN[3]],\n",
    "     'BfgsDescent':[res_BD[0],res_BD[1],res_BD[2],res_BD[3]]})\n",
    "tableau_nb_iteration"
   ]
  },
  {
   "cell_type": "markdown",
   "id": "f781651c-caa6-4f79-86cd-7106dcc7d533",
   "metadata": {},
   "source": [
    "La méthode NewtonDescentNaive prend un plus d'itération que GradientDescent et que BfgsDescent. Cela est peut-être du au fait que c'est une version naïve de la méthode de Newton. Si on prend la meilleure version NewtonDescentClever, on a besoin que d'une itération pour trouver le bon résultat.  \n",
    "La méthode NfgsDescent converge très rapidement comparer aux autres."
   ]
  },
  {
   "cell_type": "markdown",
   "id": "d524dec6-fb95-477a-b935-916abacb74cd",
   "metadata": {},
   "source": [
    "On compare maintenant le temps d'execution de chaque algorithme avec les même fonctions et paramètres que précédement.  \n",
    "Pour ce faire, on a tester un algorithme 50 fois sur une fonction donnée et on a calculé la moyenne des temps d'execution.  \n",
    "Les temps sont exprimés en millième de seconde."
   ]
  },
  {
   "cell_type": "code",
   "execution_count": 108,
   "id": "c68eb9a9-5d70-401f-b7d1-8b2921ef3245",
   "metadata": {},
   "outputs": [
    {
     "data": {
      "text/html": [
       "<div>\n",
       "<style scoped>\n",
       "    .dataframe tbody tr th:only-of-type {\n",
       "        vertical-align: middle;\n",
       "    }\n",
       "\n",
       "    .dataframe tbody tr th {\n",
       "        vertical-align: top;\n",
       "    }\n",
       "\n",
       "    .dataframe thead th {\n",
       "        text-align: right;\n",
       "    }\n",
       "</style>\n",
       "<table border=\"1\" class=\"dataframe\">\n",
       "  <thead>\n",
       "    <tr style=\"text-align: right;\">\n",
       "      <th></th>\n",
       "      <th>fonctions</th>\n",
       "      <th>GradientDescent</th>\n",
       "      <th>NewtonDescentNaive</th>\n",
       "      <th>NewtonDescentClever</th>\n",
       "      <th>BfgsDescent</th>\n",
       "    </tr>\n",
       "  </thead>\n",
       "  <tbody>\n",
       "    <tr>\n",
       "      <th>0</th>\n",
       "      <td>function7</td>\n",
       "      <td>0.00032</td>\n",
       "      <td>0.00052</td>\n",
       "      <td>0.00038</td>\n",
       "      <td>0.00056</td>\n",
       "    </tr>\n",
       "    <tr>\n",
       "      <th>1</th>\n",
       "      <td>function8</td>\n",
       "      <td>0.00038</td>\n",
       "      <td>0.00038</td>\n",
       "      <td>0.00036</td>\n",
       "      <td>0.00038</td>\n",
       "    </tr>\n",
       "    <tr>\n",
       "      <th>2</th>\n",
       "      <td>function9</td>\n",
       "      <td>0.00042</td>\n",
       "      <td>0.00046</td>\n",
       "      <td>0.00040</td>\n",
       "      <td>0.00028</td>\n",
       "    </tr>\n",
       "    <tr>\n",
       "      <th>3</th>\n",
       "      <td>function10</td>\n",
       "      <td>0.00030</td>\n",
       "      <td>0.00046</td>\n",
       "      <td>0.00026</td>\n",
       "      <td>0.00028</td>\n",
       "    </tr>\n",
       "  </tbody>\n",
       "</table>\n",
       "</div>"
      ],
      "text/plain": [
       "    fonctions  GradientDescent  NewtonDescentNaive  NewtonDescentClever  \\\n",
       "0   function7          0.00032             0.00052              0.00038   \n",
       "1   function8          0.00038             0.00038              0.00036   \n",
       "2   function9          0.00042             0.00046              0.00040   \n",
       "3  function10          0.00030             0.00046              0.00026   \n",
       "\n",
       "   BfgsDescent  \n",
       "0      0.00056  \n",
       "1      0.00038  \n",
       "2      0.00028  \n",
       "3      0.00028  "
      ]
     },
     "execution_count": 108,
     "metadata": {},
     "output_type": "execute_result"
    }
   ],
   "source": [
    "from projet1 import processing_time\n",
    "\n",
    "res_GD_f1 = [];res_NDN_f1 = [];res_NDC_f1 = [];res_BD_f1 = []\n",
    "res_GD_f2 = [];res_NDN_f2 = [];res_NDC_f2 = [];res_BD_f2 = []\n",
    "res_GD_f3 = [];res_NDN_f3 = [];res_NDC_f3 = [];res_BD_f3 = []\n",
    "res_GD_f4 = [];res_NDN_f4 = [];res_NDC_f4 = [];res_BD_f4 = []\n",
    "\n",
    "for i in range(0,50):      \n",
    "        res_GD_f1.append(processing_time(gradient_descent_1(eps=0.001, theta0 = np.array([0 for _ in range(n)]), L=function7, eta=0.1)))\n",
    "        res_NDN_f1.append(processing_time(newton_descent_naive_1(eps=0.001, theta0 = np.array([0 for _ in range(n)]), L=function7, eta=0.1)))\n",
    "        res_NDC_f1.append(processing_time(newton_descent_clever(theta0 = np.array([0 for _ in range(n)]), L=function7)))\n",
    "        res_BD_f1.append(processing_time(bfgs_descent_1(eps=0.001, theta0=np.array([0 for _ in range(n)]), L=function7, eta=0.1)))\n",
    "        res_GD_f2.append(processing_time(gradient_descent_1(eps=0.001, theta0 = np.array([0 for _ in range(n)]), L=function8, eta=0.1)))\n",
    "        res_NDN_f2.append(processing_time(newton_descent_naive_1(eps=0.001, theta0 = np.array([0 for _ in range(n)]), L=function8, eta=0.1)))\n",
    "        res_NDC_f2.append(processing_time(newton_descent_clever(theta0 = np.array([0 for _ in range(n)]), L=function8)))\n",
    "        res_BD_f2.append(processing_time(bfgs_descent_1(eps=0.001, theta0=np.array([0 for _ in range(n)]), L=function8, eta=0.1)))\n",
    "        res_GD_f3.append(processing_time(gradient_descent_1(eps=0.001, theta0 = np.array([0 for _ in range(n)]), L=function9, eta=0.1)))\n",
    "        res_NDN_f3.append(processing_time(newton_descent_naive_1(eps=0.001, theta0 = np.array([0 for _ in range(n)]), L=function9, eta=0.1)))\n",
    "        res_NDC_f3.append(processing_time(newton_descent_clever(theta0 = np.array([0 for _ in range(n)]), L=function9)))\n",
    "        res_BD_f3.append(processing_time(bfgs_descent_1(eps=0.001, theta0=np.array([0 for _ in range(n)]), L=function9, eta=0.1)))\n",
    "        res_GD_f4.append(processing_time(gradient_descent_1(eps=0.001, theta0 = np.array([0 for _ in range(n)]), L=function10, eta=0.1)))\n",
    "        res_NDN_f4.append(processing_time(newton_descent_naive_1(eps=0.001, theta0 = np.array([0 for _ in range(n)]), L=function10, eta=0.1)))\n",
    "        res_NDC_f4.append(processing_time(newton_descent_clever(theta0 = np.array([0 for _ in range(n)]), L=function10)))\n",
    "        res_BD_f4.append(processing_time(bfgs_descent_1(eps=0.001, theta0=np.array([0 for _ in range(n)]), L=function10, eta=0.1)))\n",
    "\n",
    "tableau_processing_time = pd.DataFrame(\n",
    "    {'fonctions':[\"function7\",\"function8\",\"function9\",\"function10\"],\n",
    "     'GradientDescent':[np.mean(res_GD_f1),np.mean(res_GD_f2),np.mean(res_GD_f3),np.mean(res_GD_f4)],\n",
    "     'NewtonDescentNaive':[np.mean(res_NDN_f1),np.mean(res_NDN_f2),np.mean(res_NDN_f3),np.mean(res_NDN_f4)],\n",
    "     'NewtonDescentClever':[np.mean(res_NDC_f1),np.mean(res_NDC_f2),np.mean(res_NDC_f3),np.mean(res_NDC_f4)],\n",
    "     'BfgsDescent':[np.mean(res_BD_f1),np.mean(res_BD_f2),np.mean(res_BD_f3),np.mean(res_BD_f3)]})\n",
    "tableau_processing_time"
   ]
  },
  {
   "cell_type": "markdown",
   "id": "29644090-4ee4-4561-9da9-39aa816a213c",
   "metadata": {},
   "source": [
    "On voit que l'algorithme GradientDescent prend un peu moins de temps en moyenne que NewtonDescentNaive. Cela peut être du au nombre d'itération inférieur de cet algorithme. De plus, la coût par itération du calcul du gradient est petit ( $O(n)$ ) pour GradientDescent comparé au coût de calculer l'inverse de la Hessienne pour NewtonDescentNaive ( $O(n^3)$ ).  \n",
    "\n",
    "L'algorithme BfgsDescent prend moins de temps en moyenne que NewtonDescentNaive. Cela peut être du au nombre d'itération inférieur de l'algorithme BfgsDescent. De plus, à chaque itération, la mise à jour de la Hessienne approximative de l'algorithme BfgsDescdent est moins coûteuse ( $O(n^2)$ ) que le calcul de l'inverse de la Hessienne ( $O(n^3)$ )."
   ]
  },
  {
   "cell_type": "markdown",
   "id": "599155d6-dc35-4a3a-97d7-99b9c75cccd6",
   "metadata": {},
   "source": [
    "### Exercise 4\n",
    "\n",
    "To close the loop, we will study a significantly different kind of problem: the stochastic optimisation.\n",
    "\n",
    "They are way more frequent than deterministic algorithms since a lot of real world applications tackle with the randomness of some data experiments.\n",
    "They are formulated as follows:\n",
    "$$\n",
    "\\min_{\\theta\\in\\Theta}\\underbrace{\\mathbb{E}_{X\\sim\\mathbb{P}}\\left[J_\\theta(X)\\right]}_{:=L(\\theta)}\n",
    "$$\n",
    "\n",
    "We suppose that in a general case, $X$ being observed data vectors, we lack an access to the real data distribution $\\mathbb{P}$.\n",
    "So we cannot sample arbitrarily from $P$ and must design clever algorithm that take care of the complexity of the number of samples that we draw from the distribution $P$.\n",
    "\n",
    "The first idea could be to draw a finite amount of samples $X_0, \\dots, X_N$ for $N$ large enough and perform a monte carlo strategy:\n",
    "$$\n",
    "\\nabla L(\\theta_0)=\\nabla\\left.\\mathbb{E}_{i\\in \\{0\\dots N\\}}\\left[J_\\theta(X_i)\\right]\\right|_{\\theta=\\theta_0}\n",
    "$$\n",
    "\n",
    "Taking directly the gradient of the expectation is not easy theoreticaly, but since the sampling is independent of $\\theta$ (i.e. $\\mathbb{P}\\perp\\theta$), we may exchange $\\mathbb{E}$ and $\\nabla$ and get a good estimate since both operators are linear in different variables:\n",
    "$$\n",
    "\\nabla L(\\theta_0)=\\mathbb{E}_{i\\in \\{0\\dots N\\}}\\left[\\nabla_\\theta\\left.J_\\theta(X_i)\\right|_{\\theta=\\theta_0}\\right]\n",
    "$$\n",
    "This helps understand the relevance of what are called *stochastic gradient descent* (SGD) algorithms which use the gradient oracle for $J$ (instead of $L$ which we cannot access easily):\n",
    "\n",
    "```\n",
    "Start at theta := theta_0\n",
    "While no convergence observed:\n",
    "    Sample a data point X from the distribution\n",
    "    Compute randomized_grad := gradient_oracle( X , theta )\n",
    "    Set theta_new := theta - eta * randomized_grad\n",
    "```\n",
    "\n",
    "One may also use a batched version:\n",
    "```\n",
    "Start at theta := theta_0\n",
    "While no convergence observed:\n",
    "    Sample m+1 data point X_0, ..., X_m from the distribution\n",
    "    Compute batch_grad := gradient_oracle( X_0 , ... , X_m , theta ) as the empirical mean on m+1 data points\n",
    "    Set theta_new := theta - eta * batch_grad\n",
    "```\n",
    "**Implement in the class `StochasticDescent` the minibatch version (for a batchsize of 1, i.e. the first algorithm) for the stochastic loss `function5`.**"
   ]
  },
  {
   "cell_type": "code",
   "execution_count": 109,
   "id": "352e4099-e6dc-4811-8ddc-112c8c8769f7",
   "metadata": {},
   "outputs": [],
   "source": [
    "from utils import make_random_func2\n",
    "from projet1 import stochastic_descent"
   ]
  },
  {
   "cell_type": "code",
   "execution_count": 110,
   "id": "e7029e63-80df-4020-a99e-d5edf4db7414",
   "metadata": {},
   "outputs": [],
   "source": [
    "n=10\n",
    "function5 = make_random_func2(10000, n)"
   ]
  },
  {
   "cell_type": "markdown",
   "id": "33e18345-2e92-437b-bc73-dfe468a81773",
   "metadata": {},
   "source": [
    "Testons l'algorithme sur la fonction5."
   ]
  },
  {
   "cell_type": "code",
   "execution_count": 111,
   "id": "2b320db0-9810-4979-aec2-3bdb808fb868",
   "metadata": {},
   "outputs": [
    {
     "data": {
      "text/plain": [
       "(array([ 0.88725484, -0.18097723, -0.24887797, -0.65097559,  0.56130098,\n",
       "         0.04341394,  1.27337008,  1.50924632,  0.94158079,  0.61543135]),\n",
       " 4338)"
      ]
     },
     "execution_count": 111,
     "metadata": {},
     "output_type": "execute_result"
    }
   ],
   "source": [
    "stochastic_descent(eps=0.001, theta0=np.array([0 for _ in range(n)]), L=function5, eta=0.005, batch_size = n)"
   ]
  },
  {
   "cell_type": "code",
   "execution_count": 112,
   "id": "cdc2e57f-37fd-4fc8-84c1-26a0c99b2b9a",
   "metadata": {},
   "outputs": [
    {
     "data": {
      "text/plain": [
       "(array([ 1.02231783, -0.19121449, -0.25293903, -0.64691199,  0.71596997,\n",
       "        -0.02737042,  1.24252061,  1.5001097 ,  0.92145999,  0.58743643]),\n",
       " 4000)"
      ]
     },
     "execution_count": 112,
     "metadata": {},
     "output_type": "execute_result"
    }
   ],
   "source": [
    "stochastic_descent(eps=0.001, theta0=np.array([0 for _ in range(n)]), L=function5, eta=0.005, batch_size = n)"
   ]
  },
  {
   "cell_type": "code",
   "execution_count": 113,
   "id": "58d18225-738f-4656-86c2-1baef874e50b",
   "metadata": {},
   "outputs": [
    {
     "data": {
      "text/plain": [
       "(array([ 0.81572984, -0.17979746, -0.07700466, -0.45153201,  0.40456884,\n",
       "         0.19233517,  1.05096176,  1.23435729,  0.89582471,  0.67257218]),\n",
       " 2398)"
      ]
     },
     "execution_count": 113,
     "metadata": {},
     "output_type": "execute_result"
    }
   ],
   "source": [
    "stochastic_descent(eps=0.001, theta0=np.array([0 for _ in range(n)]), L=function5, eta=0.005, batch_size = n)"
   ]
  },
  {
   "cell_type": "markdown",
   "id": "7ac698a7-e40e-4b49-bf6a-9388b0c517a6",
   "metadata": {},
   "source": [
    "Une première chose que l'on peut voir est que pour les mêmes paramètres (donc la même fonction), le nombre d'étapes nécessaires pour converger diffère ce qui n'était pas le cas pour les méthodes précédentes. Cette différence est dûe au fait que l'algorithme soit stochastique alors que les algorithmes précédents étaient déterministes. Ici, on prend de manière aléatoire des valeurs pour construire notre gradient : on peut parfois avoir de la chance et prendre des points de qualités et converger rapidement vers un résultat ou à l'inverse prendre plus de temps à converger à cause d'une sélection de points défavorable."
   ]
  },
  {
   "cell_type": "markdown",
   "id": "ccbf46e9-5cde-4ec0-a6cb-d25fe07b9084",
   "metadata": {},
   "source": [
    "Une seconde chose que l'on peut observer est que l'on ne converge pas vers le même point contrairement aux autres algorithmes. Cela est également dû à la manière dont est construit l'algorithme et ce que l'on cherche à obtenir. On ne va pas chercher à obtenir une valeur précise, mais plutôt un pavé dans lequel devrait se trouver le minimum global que l'on cherche à prédire."
   ]
  },
  {
   "cell_type": "markdown",
   "id": "da44ec71-b150-4da2-8b18-496328073f52",
   "metadata": {},
   "source": [
    "Pour illustrer cela, nous allons devoir nous limiter à de petites dimensions. Nous allons construire un histogramme de nos valeurs pour voir si certaines valeurs ressortent et construire un intervalle de confiance."
   ]
  },
  {
   "cell_type": "markdown",
   "id": "067aa81d-b07b-43bd-9649-650705b3489a",
   "metadata": {},
   "source": [
    "Dimesion 1"
   ]
  },
  {
   "cell_type": "code",
   "execution_count": 114,
   "id": "fdbc5bb1-351d-41b4-92c8-b856c2e55a3c",
   "metadata": {},
   "outputs": [],
   "source": [
    "n=1\n",
    "function_test = make_random_func2(10000, n)"
   ]
  },
  {
   "cell_type": "code",
   "execution_count": 115,
   "id": "58fd2fac-de8d-45f7-9ee8-814e181edc2b",
   "metadata": {},
   "outputs": [
    {
     "data": {
      "image/png": "[encoded data removed]",
      "text/plain": [
       "<Figure size 640x480 with 1 Axes>"
      ]
     },
     "metadata": {},
     "output_type": "display_data"
    }
   ],
   "source": [
    "import matplotlib.pyplot as plt\n",
    "\n",
    "# Vecteur résultat\n",
    "results = [stochastic_descent(eps=0.001, theta0=np.array([0 for _ in range(n)]), L=function_test, eta=0.01, batch_size = n)[0][0] for _ in range(100)]\n",
    "\n",
    "# Histogramme\n",
    "plt.hist(results, bins=10, edgecolor='k', alpha=0.7)\n",
    "plt.title(\"Histogramme des valeurs de StochasticDescent\")\n",
    "plt.xlabel(\"Valeur\")\n",
    "plt.ylabel(\"Fréquence\")\n",
    "plt.show()\n"
   ]
  },
  {
   "cell_type": "markdown",
   "id": "aa080ab2-70be-4a02-9b8f-0fa287ea151c",
   "metadata": {},
   "source": [
    "On voit bien apparaitre sur l'histogramme le fait que l'algorithme ne prédise pas toujours la même valeur. Néanmoins, on voit également que la répartition n'est pas uniforme : certaines valeurs sont plus populaires (ici les valeurs proches de 0)."
   ]
  },
  {
   "cell_type": "markdown",
   "id": "81fa663d-c55d-4dc8-be12-167e89c02e61",
   "metadata": {},
   "source": [
    "Dimension 2"
   ]
  },
  {
   "cell_type": "code",
   "execution_count": 116,
   "id": "37ef3e19-2a53-4b2d-a096-4de4b1143fe5",
   "metadata": {},
   "outputs": [],
   "source": [
    "n=2\n",
    "function_test = make_random_func2(10000, n)"
   ]
  },
  {
   "cell_type": "code",
   "execution_count": 117,
   "id": "b8211bf6-2619-4bae-82a7-6f5c4b8af56f",
   "metadata": {},
   "outputs": [
    {
     "data": {
      "image/png": "[encoded data removed]",
      "text/plain": [
       "<Figure size 800x600 with 2 Axes>"
      ]
     },
     "metadata": {},
     "output_type": "display_data"
    }
   ],
   "source": [
    "\n",
    "results = np.array([stochastic_descent(eps=0.001, theta0=np.array([0 for _ in range(n)]), L=function_test, eta=0.01, batch_size = n)[0] for _ in range(100)])  # Récupérer les np.array de taille 2\n",
    "\n",
    "# Separer les deux dimensions\n",
    "x_vals = results[:, 0] \n",
    "y_vals = results[:, 1]\n",
    "\n",
    "# Creer une figure avec un gradient de densite\n",
    "plt.figure(figsize=(8, 6))\n",
    "plt.hist2d(x_vals, y_vals, bins=20, cmap='plasma')  # Histogramme 2D avec gradient de couleur\n",
    "\n",
    "# Ajouter des éléments de visualisation\n",
    "plt.colorbar(label=\"Fréquence\")  # Barre de couleur pour indiquer les densités\n",
    "plt.title(\"Histogramme 2D avec gradient de couleur\")\n",
    "plt.xlabel(\"Valeur X\")\n",
    "plt.ylabel(\"Valeur Y\")\n",
    "plt.show()\n"
   ]
  },
  {
   "cell_type": "markdown",
   "id": "592e1c1c-fd8e-43e1-8253-b5735142434e",
   "metadata": {},
   "source": [
    "Comme pour la dimension 1, on voit également que les résultats de l'algorithme de StochasticGradient ne sont pas distribués de manière uniforme mais que certaines valeurs ressortent plus souvent."
   ]
  },
  {
   "cell_type": "markdown",
   "id": "227aaa56-e4ba-4f58-9199-317f1fd156b0",
   "metadata": {},
   "source": [
    "Cette méthode permet donc d'obtenir un intervalle de confiance ou un pavé de confiance pour les dimensions supérieures à 1 mais pas d'obtenir de manière certaine une solution. Elle a l'avantage de ne pas nécessiter de connaitre la hessienne mais seulement le gradient et de permettre de prendre en compte le caractère aléatoire des données."
   ]
  },
  {
   "cell_type": "markdown",
   "id": "c37fea9c-801b-4209-a340-1fe5eb61a41a",
   "metadata": {},
   "source": [
    "In the machine learning cmmunity, the optimisation problems may not be convex, they may have saddle point (the hessian is non-invertible so the algorithm is stuck) or be highly stochastic.\n",
    "The distribution $\\mathbb{P}$ may be populated by a very high amount of samples as well.\n",
    "\n",
    "\n",
    "So stochastic algorithm had to be improved in several ways.\n",
    "The first good idea came (mostly) from Pr. Nesterov, it is the addition of a \"momentum\" in the gradient descent to get out of local minima, accelerate the descent, and cross the most dangerous saddle points.\n",
    "\n",
    "It has now been time and time improved upon, leading to the popular *Adam* algorithm.\n",
    "\n",
    "It looks as follows:\n",
    "```\n",
    "Given two parameters beta_1 and beta_2, and learning rate eta\n",
    "Start with:\n",
    "    theta := theta_0\n",
    "    m := 0 (first moment ~> mean)\n",
    "    v := 0 (second moment ~> variance)\n",
    "While no convergence observed:\n",
    "    Take a (mini/small/full)batch of the data, X\n",
    "    Set grad_new := gradient_oracle( theta , X )\n",
    "    Set m_new = beta_1 * m + (1-beta_1) * grad_new\n",
    "    Set v_new = beta_2 * v + (1-beta_2) * grad_new * grad_new\n",
    "    Correct biases in moment estimates:\n",
    "        Set m_hat = m_new / (1-beta_1)\n",
    "        Set v_hat = v_new / (1-beta_2)\n",
    "    Set theta_new := theta - eta * m_hat / square_root( v_hat )\n",
    "```\n",
    "**Implement this new algorithm for `function6`. Try to explain in your own words what the main ideas of this algorithm are, and comment on the hyper parameters $\\beta_1$ and $\\beta_2$.**"
   ]
  },
  {
   "cell_type": "code",
   "execution_count": 118,
   "id": "f94cc6fb-bcd1-4b02-92e0-45bc0c50d4a6",
   "metadata": {},
   "outputs": [
    {
     "data": {
      "text/plain": [
       "(array([ 0.71869251, -0.03619046, -0.25364628, -0.88947235]), 9)"
      ]
     },
     "execution_count": 118,
     "metadata": {},
     "output_type": "execute_result"
    }
   ],
   "source": [
    "from projet1 import adam\n",
    "n=4\n",
    "function6 = make_random_func2(10000, n)\n",
    "adam(L=function6, theta_0=np.array([0 for _ in range(n)]), eps=0.1, eta=0.1, beta_1=0.9, beta_2=0.99)"
   ]
  },
  {
   "cell_type": "markdown",
   "id": "e81fb43d-0fa5-41f6-ae6b-8ba011e717fa",
   "metadata": {},
   "source": [
    "L'idée de cet algorithme reprend un peu celle de StochasticDescent, on choisi des données aléatoires pour consutruire notre gradient mais on ajoute deux paramètres $\\beta_1$ et $\\beta_2$ qui  vont permettre de contrôler les variations de $m$ et $v$ qui sont en fait les moments d'ordre 1 et 2 du gradient. Plus $\\beta_1$ et $\\beta_2$ sont grands, moins le m final dépendra des derniers gradients calculés dans la boucle. Cela permettrait notamment d'éviter de tomber dans des minimum locaux en cas de mauvais choix de données mais de quand même converger vers une solution."
   ]
  }
 ],
 "metadata": {
  "kernelspec": {
   "display_name": "Python 3 (ipykernel)",
   "language": "python",
   "name": "python3"
  },
  "language_info": {
   "codemirror_mode": {
    "name": "ipython",
    "version": 3
   },
   "file_extension": ".py",
   "mimetype": "text/x-python",
   "name": "python",
   "nbconvert_exporter": "python",
   "pygments_lexer": "ipython3",
   "version": "3.12.4"
  }
 },
 "nbformat": 4,
 "nbformat_minor": 5
}
